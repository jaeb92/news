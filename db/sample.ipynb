{
 "cells": [
  {
   "cell_type": "code",
   "execution_count": 26,
   "id": "0ee1cd6b-67c3-49c2-901a-d8300351e38b",
   "metadata": {},
   "outputs": [
    {
     "name": "stdout",
     "output_type": "stream",
     "text": [
      "The autoreload extension is already loaded. To reload it, use:\n",
      "  %reload_ext autoreload\n"
     ]
    }
   ],
   "source": [
    "%load_ext autoreload \n",
    "%autoreload 2"
   ]
  },
  {
   "cell_type": "code",
   "execution_count": 27,
   "id": "8f7a5566-d383-46ff-ba31-95920d93c000",
   "metadata": {},
   "outputs": [],
   "source": [
    "from es import ElasticSearch"
   ]
  },
  {
   "cell_type": "code",
   "execution_count": 81,
   "id": "bb7c2dce-1faa-4eab-91f2-eaf8fc1871ec",
   "metadata": {},
   "outputs": [
    {
     "name": "stderr",
     "output_type": "stream",
     "text": [
      "/Users/jaeb/news/venv/lib/python3.10/site-packages/urllib3/connectionpool.py:1056: InsecureRequestWarning: Unverified HTTPS request is being made to host 'localhost'. Adding certificate verification is strongly advised. See: https://urllib3.readthedocs.io/en/1.26.x/advanced-usage.html#ssl-warnings\n",
      "  warnings.warn(\n"
     ]
    }
   ],
   "source": [
    "es = ElasticSearch()"
   ]
  },
  {
   "cell_type": "code",
   "execution_count": 83,
   "id": "09c5f101-6db7-402e-8db8-1b99509d439a",
   "metadata": {},
   "outputs": [
    {
     "name": "stdout",
     "output_type": "stream",
     "text": [
      "{'name': '19b9affa10a4', 'cluster_name': 'docker-cluster', 'cluster_uuid': 'fpJhDi6XTFyHpX8BeCzXRg', 'version': {'number': '8.9.0', 'build_flavor': 'default', 'build_type': 'docker', 'build_hash': '8aa461beb06aa0417a231c345a1b8c38fb498a0d', 'build_date': '2023-07-19T14:43:58.555259655Z', 'build_snapshot': False, 'lucene_version': '9.7.0', 'minimum_wire_compatibility_version': '7.17.0', 'minimum_index_compatibility_version': '7.0.0'}, 'tagline': 'You Know, for Search'}\n"
     ]
    },
    {
     "name": "stderr",
     "output_type": "stream",
     "text": [
      "/Users/jaeb/news/venv/lib/python3.10/site-packages/urllib3/connectionpool.py:1056: InsecureRequestWarning: Unverified HTTPS request is being made to host 'localhost'. Adding certificate verification is strongly advised. See: https://urllib3.readthedocs.io/en/1.26.x/advanced-usage.html#ssl-warnings\n",
      "  warnings.warn(\n"
     ]
    }
   ],
   "source": [
    "print(es)"
   ]
  },
  {
   "cell_type": "code",
   "execution_count": 82,
   "id": "4bd550b9-6394-49be-a03e-a3a905ee2d99",
   "metadata": {},
   "outputs": [
    {
     "name": "stderr",
     "output_type": "stream",
     "text": [
      "/Users/jaeb/news/venv/lib/python3.10/site-packages/urllib3/connectionpool.py:1056: InsecureRequestWarning: Unverified HTTPS request is being made to host 'localhost'. Adding certificate verification is strongly advised. See: https://urllib3.readthedocs.io/en/1.26.x/advanced-usage.html#ssl-warnings\n",
      "  warnings.warn(\n",
      "/Users/jaeb/news/db/es.py:39: ElasticsearchWarning: this request accesses system indices: [.security-7], but in a future major version, direct access to system indices will be prevented by default\n",
      "  return sorted(self.es.indices.get_alias(index=\"*\"))\n"
     ]
    },
    {
     "data": {
      "text/plain": [
       "['.security-7', 'test', 'test-index', 'test-index2']"
      ]
     },
     "execution_count": 82,
     "metadata": {},
     "output_type": "execute_result"
    }
   ],
   "source": [
    "es.get_indexes()"
   ]
  },
  {
   "cell_type": "code",
   "execution_count": 33,
   "id": "a79063a1-8291-4e3d-9df3-facdcb2a25a2",
   "metadata": {},
   "outputs": [],
   "source": [
    "index_name='test'\n",
    "index_body={\b\n",
    "    'settings':{\n",
    "        \"number_of_shards\": 1,\n",
    "        \"number_of_replicas\": 0\n",
    "    },\n",
    "    \"mappings\": {\n",
    "        \"properties\": {\n",
    "            \"title\": {\"type\": \"text\"},\n",
    "            \"content\": {\"type\": \"text\"}\n",
    "        }\n",
    "    }\n",
    "}"
   ]
  },
  {
   "cell_type": "code",
   "execution_count": null,
   "id": "8158debc-b9bc-4ff8-95b8-4ebd72e6ddd8",
   "metadata": {},
   "outputs": [],
   "source": [
    "res = es.create_index(index_name, index_body)"
   ]
  },
  {
   "cell_type": "code",
   "execution_count": 44,
   "id": "574c2824-0320-4251-b412-93200cf1b422",
   "metadata": {},
   "outputs": [],
   "source": [
    "doc = {\n",
    "    'title': 'hi',\n",
    "    'content': 'test contents'\n",
    "}"
   ]
  },
  {
   "cell_type": "code",
   "execution_count": 58,
   "id": "d4890e88-a0c1-42ea-b0f8-69785e02baa6",
   "metadata": {},
   "outputs": [
    {
     "name": "stdout",
     "output_type": "stream",
     "text": [
      "<class 'elastic_transport.ObjectApiResponse'>\n"
     ]
    },
    {
     "name": "stderr",
     "output_type": "stream",
     "text": [
      "/Users/jaeb/news/venv/lib/python3.10/site-packages/urllib3/connectionpool.py:1056: InsecureRequestWarning: Unverified HTTPS request is being made to host 'localhost'. Adding certificate verification is strongly advised. See: https://urllib3.readthedocs.io/en/1.26.x/advanced-usage.html#ssl-warnings\n",
      "  warnings.warn(\n"
     ]
    },
    {
     "data": {
      "text/plain": [
       "ObjectApiResponse({'_index': 'test', '_id': '8GultIkBmHp9mVRZqODC', '_version': 1, 'result': 'created', '_shards': {'total': 1, 'successful': 1, 'failed': 0}, '_seq_no': 3, '_primary_term': 1})"
      ]
     },
     "execution_count": 58,
     "metadata": {},
     "output_type": "execute_result"
    }
   ],
   "source": [
    "es.insert('test', doc)"
   ]
  },
  {
   "cell_type": "code",
   "execution_count": 57,
   "id": "5a8e3944-69e5-4614-9e41-2ce93796419a",
   "metadata": {},
   "outputs": [
    {
     "name": "stdin",
     "output_type": "stream",
     "text": [
      "delete test, are you sure? (y/n) n\n"
     ]
    },
    {
     "data": {
      "text/plain": [
       "''"
      ]
     },
     "execution_count": 57,
     "metadata": {},
     "output_type": "execute_result"
    }
   ],
   "source": [
    "es.delete_index('test')"
   ]
  },
  {
   "cell_type": "code",
   "execution_count": null,
   "id": "d6f10128-93b0-4ce6-950a-053b5f3772f2",
   "metadata": {},
   "outputs": [],
   "source": []
  },
  {
   "cell_type": "code",
   "execution_count": 79,
   "id": "1c86b056-b21e-4a6d-9e8f-5b1ce14228ba",
   "metadata": {},
   "outputs": [
    {
     "name": "stderr",
     "output_type": "stream",
     "text": [
      "/Users/jaeb/news/venv/lib/python3.10/site-packages/urllib3/connectionpool.py:1056: InsecureRequestWarning: Unverified HTTPS request is being made to host 'localhost'. Adding certificate verification is strongly advised. See: https://urllib3.readthedocs.io/en/1.26.x/advanced-usage.html#ssl-warnings\n",
      "  warnings.warn(\n"
     ]
    }
   ],
   "source": [
    "res = es.search_all('test')"
   ]
  },
  {
   "cell_type": "code",
   "execution_count": 80,
   "id": "136ac613-449a-4d4a-9ef0-19e80c8dc049",
   "metadata": {},
   "outputs": [
    {
     "data": {
      "text/plain": [
       "[{'_index': 'test',\n",
       "  '_id': '7WuitIkBmHp9mVRZQeDs',\n",
       "  '_score': 1.0,\n",
       "  '_source': {'title': 'hi', 'content': 'test contents'}},\n",
       " {'_index': 'test',\n",
       "  '_id': '7multIkBmHp9mVRZi-DS',\n",
       "  '_score': 1.0,\n",
       "  '_source': {'title': 'hi', 'content': 'test contents'}},\n",
       " {'_index': 'test',\n",
       "  '_id': '72ultIkBmHp9mVRZjuCJ',\n",
       "  '_score': 1.0,\n",
       "  '_source': {'title': 'hi', 'content': 'test contents'}},\n",
       " {'_index': 'test',\n",
       "  '_id': '8GultIkBmHp9mVRZqODC',\n",
       "  '_score': 1.0,\n",
       "  '_source': {'title': 'hi', 'content': 'test contents'}}]"
      ]
     },
     "execution_count": 80,
     "metadata": {},
     "output_type": "execute_result"
    }
   ],
   "source": [
    "res"
   ]
  },
  {
   "cell_type": "code",
   "execution_count": 75,
   "id": "9edc8fd6-9b04-4f06-a99d-3ff5057fcd85",
   "metadata": {},
   "outputs": [
    {
     "name": "stderr",
     "output_type": "stream",
     "text": [
      "/Users/jaeb/news/venv/lib/python3.10/site-packages/urllib3/connectionpool.py:1056: InsecureRequestWarning: Unverified HTTPS request is being made to host 'localhost'. Adding certificate verification is strongly advised. See: https://urllib3.readthedocs.io/en/1.26.x/advanced-usage.html#ssl-warnings\n",
      "  warnings.warn(\n"
     ]
    }
   ],
   "source": [
    "res = es.search_by_id('test', 1)"
   ]
  },
  {
   "cell_type": "code",
   "execution_count": 72,
   "id": "5e78a046-b91f-458c-8fd7-d0124e4a1d59",
   "metadata": {},
   "outputs": [
    {
     "data": {
      "text/plain": [
       "{'total': {'value': 0, 'relation': 'eq'}, 'max_score': None, 'hits': []}"
      ]
     },
     "execution_count": 72,
     "metadata": {},
     "output_type": "execute_result"
    }
   ],
   "source": [
    "res"
   ]
  },
  {
   "cell_type": "code",
   "execution_count": null,
   "id": "3d326b94-9be3-4f6a-94b3-55290efbe3b7",
   "metadata": {},
   "outputs": [],
   "source": []
  }
 ],
 "metadata": {
  "kernelspec": {
   "display_name": "Python 3 (ipykernel)",
   "language": "python",
   "name": "python3"
  },
  "language_info": {
   "codemirror_mode": {
    "name": "ipython",
    "version": 3
   },
   "file_extension": ".py",
   "mimetype": "text/x-python",
   "name": "python",
   "nbconvert_exporter": "python",
   "pygments_lexer": "ipython3",
   "version": "3.10.12"
  }
 },
 "nbformat": 4,
 "nbformat_minor": 5
}
