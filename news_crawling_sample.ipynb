{
 "cells": [
  {
   "cell_type": "code",
   "execution_count": 267,
   "id": "335582fe-72f5-4631-8602-1647ae285bbb",
   "metadata": {},
   "outputs": [],
   "source": [
    "import yaml\n",
    "import json\n",
    "import requests\n",
    "import pandas as pd\n",
    "\n",
    "from PIL import Image\n",
    "from io import BytesIO\n",
    "from bs4 import BeautifulSoup"
   ]
  },
  {
   "cell_type": "code",
   "execution_count": 200,
   "id": "00df075d-9682-4c82-8afe-905a82d37914",
   "metadata": {},
   "outputs": [
    {
     "data": {
      "text/plain": [
       "{'chosun': 'https://www.chosun.com/',\n",
       " 'joongang': 'https://www.joongang.co.kr/',\n",
       " 'donga': 'https://www.donga.com/news/',\n",
       " 'seoul': 'https://www.seoul.co.kr/news/newsList.php?section=politics',\n",
       " 'khan': 'https://www.khan.co.kr/',\n",
       " 'maeil': 'https://news.imaeil.com/',\n",
       " 'hani': 'https://www.hani.co.kr/arti/',\n",
       " 'hankook': 'https://hankookilbo.com/News'}"
      ]
     },
     "execution_count": 200,
     "metadata": {},
     "output_type": "execute_result"
    }
   ],
   "source": [
    "# main url\n",
    "with open('config/news_homepage.yaml', 'r') as f:\n",
    "    main_url = yaml.load(f, Loader=yaml.FullLoader)\n",
    "\n",
    "# category\n",
    "category = pd.read_excel('data/news_category_eng.xlsx', index_col=0, sheet_name=None)\n",
    "main_category = list(category.keys())\n",
    "# main_category\n",
    "main_url"
   ]
  },
  {
   "cell_type": "code",
   "execution_count": 255,
   "id": "4bf8453c-f3eb-47e0-a88c-2d18054cba69",
   "metadata": {},
   "outputs": [
    {
     "data": {
      "text/plain": [
       "'https://www.joongang.co.kr/sports/soccer?page=1'"
      ]
     },
     "execution_count": 255,
     "metadata": {},
     "output_type": "execute_result"
    }
   ],
   "source": [
    "# chosun / sports\n",
    "news_comp = 'joongang'\n",
    "news_list_url = main_url[news_comp] + f\"{main_category[-1]}/\" + f\"{category['sports'][news_comp].loc['category2-1']}/\"\n",
    "\n",
    "news_list_url = \"https://www.joongang.co.kr/sports/soccer?page=1\"\n",
    "news_list_url"
   ]
  },
  {
   "cell_type": "code",
   "execution_count": 253,
   "id": "9ff64720-f4a0-4a56-ba65-5ee00c449aae",
   "metadata": {},
   "outputs": [],
   "source": [
    "res = requests.get(news_list_url)\n",
    "html = BeautifulSoup(res.text, 'html.parser')"
   ]
  },
  {
   "cell_type": "markdown",
   "id": "b3e4d16b-3c8c-4db3-9334-82602e447d93",
   "metadata": {},
   "source": [
    "## 뉴스리스트에서 상세페이지 url 추출"
   ]
  },
  {
   "cell_type": "code",
   "execution_count": 258,
   "id": "4c307e65-1318-4c21-8a09-665a953a6c79",
   "metadata": {},
   "outputs": [
    {
     "data": {
      "text/plain": [
       "['25180796',\n",
       " '25180792',\n",
       " '25180784',\n",
       " '25180768',\n",
       " '25180766',\n",
       " '25180760',\n",
       " '25180759',\n",
       " '25180741',\n",
       " '25180737',\n",
       " '25180713',\n",
       " '25180672',\n",
       " '25180440',\n",
       " '25180414',\n",
       " '25180387',\n",
       " '25180342',\n",
       " '25180328',\n",
       " '25180271',\n",
       " '25180267',\n",
       " '25180118',\n",
       " '25180116',\n",
       " '25180078',\n",
       " '25180010',\n",
       " '25180003',\n",
       " '25179970']"
      ]
     },
     "execution_count": 258,
     "metadata": {},
     "output_type": "execute_result"
    }
   ],
   "source": [
    "news_list = html.find_all('h2', 'headline')\n",
    "news_detail_urls = [item.find('a').attrs['href'] for item in news_list]\n",
    "news_id = [urls.split(\"/\")[-1] for urls in news_detail_urls]"
   ]
  },
  {
   "cell_type": "markdown",
   "id": "e23fa8ce-a6bd-47c4-ab9c-c694bc5cf9f9",
   "metadata": {},
   "source": [
    "## 각 상세페이지로 접속하여 제목, 본문, 기사, 시간, 이미지 추출"
   ]
  },
  {
   "cell_type": "code",
   "execution_count": 278,
   "id": "e1814066-2b09-4d9f-98c3-aef3a7eb5fb1",
   "metadata": {},
   "outputs": [],
   "source": [
    "for url in news_detail_urls:\n",
    "    res = requests.get(url)\n",
    "    html = BeautifulSoup(res.text, 'html.parser')\n",
    "    \n",
    "    news_titles = html.find_all('h1', 'headline')\n",
    "    news_titles = list(map(lambda x: x.text.replace('\\n', '').replace('\\'', '').strip(), news_titles))\n",
    "    \n",
    "    news_contents = html.find_all('div', 'article_body fs3')\n",
    "    news_contents = list(map(lambda x: x.text.replace('\\n', '').replace('\\'', '').strip(), news_contents))\n",
    "\n",
    "    news_author = []\n",
    "    author = html.find('div', 'byline').find('a')\n",
    "    author = author.text.split()[0]\n",
    "    news_author.append(author)\n",
    "\n",
    "    news_insert_dt = []\n",
    "    news_update_dt = []\n",
    "    \n",
    "    try:\n",
    "        insert_dt = html.find('p', 'date').find('time').attrs['datetime']\n",
    "        news_insert_dt.append(insert_dt)\n",
    "    except:\n",
    "        news_insert_dt.append('None')\n",
    "\n",
    "    try:\n",
    "        update_dt = html.find('p', 'update').find('time').attrs['datetime']\n",
    "    except:\n",
    "        news_update_dt.append('None')\n",
    "\n",
    "    news_detail_images = html.find_all('div', 'ab_photo')\n",
    "    news_detail_images = [images.find('img').attrs['data-src'] for images in news_detail_images]    "
   ]
  },
  {
   "cell_type": "markdown",
   "id": "463defd9-eafb-4759-b87a-c1c80b5290ec",
   "metadata": {},
   "source": [
    "## 이미지 저장"
   ]
  },
  {
   "cell_type": "code",
   "execution_count": 275,
   "id": "6cad94dc-b963-4f99-9abe-b59b5284785a",
   "metadata": {},
   "outputs": [],
   "source": [
    "for image in news_detail_images:\n",
    "    response = requests.get(image)\n",
    "    img = Image.open(BytesIO(response.content))\n",
    "    # img.show() # 이미지 확인\n",
    "    img.save(f'/Users/jaeb/news/static/news_images/joongang/{news_id}/{image.split(\"/\")[-1]}')"
   ]
  },
  {
   "cell_type": "code",
   "execution_count": 229,
   "id": "107a1521-9db0-47ed-9430-242d56ffdb37",
   "metadata": {},
   "outputs": [
    {
     "data": {
      "text/plain": [
       "(['올 시즌 셀틱에선 한국인 3명 뛰는 진풍경 본다...권혁규 영입 발표'],\n",
       " ['셀틱의 세 번째 한국인 선수가 된 권혁규. 사진 셀틱 SNS        \\xa0올 시즌 유럽 프로축구에는 한국 선수 세 명이 동시에 그라운드를 누비는 진풍경을 볼 수 있다. 스코틀랜드 명문 셀틱FC에서다.   셀틱 구단은 24일 \"권혁규(22)와 5년 계약을 맺었다\"고 밝혔다. 등번호는 22번을 배정받았다. 권혁규는\\xa0소속팀 부산 아이파크(K리그2)가 지난 18일 그의 셀틱행을 알리면서 이적이 알려졌다. 이적료는 100만 유로(약 14억원). 셀틱은 2022~23시즌 스코틀랜드 무대에서 정규리그, 스코티시컵(FA컵), 리그컵을 석권하며 통산 8번째 트레블(3관왕)을 이뤘다. 잉글랜드 프리미어리그(EPL)에 참가한다면 하위권 정도의 전력을 갖춘 것으로 평가 받는다.   이로써 셀틱은 지난 1월 수원 삼성(K리그 1부)에서 영입한 공격수 오현규(22), 지난 15일 셀틱 이적을 발표한 강원FC 공격수 양현준(21)에 이어 권혁규까지 영입하며 한국인 선수만 세 명을 보유한 구단이 됐다. 셀틱은 과거 미드필더 기성용(34·FC서울), 수비수 차두리(43·한국 축구대표팀 코디네이터)가 몸담았던 팀으로 한국 팬들에게도 익숙하다.   셀틱은 지난해 12월 한 차례 권혁규에게 러브콜을 보내는 등 오래 전부터 그를 관찰했다. 수비형 미드필더 권혁규는 개성고 3학년이던 2019년 부산에서 프로 데뷔했다. K리그 통산 76경기 3골 2도움을 기록했다. 키 1m90㎝, 77㎏의 탄탄한 체격에 발 기술까지 뛰어나다는 평가를 받는다. 2021~22시즌 군팀 김천 상무에서 뛰며 병역 문제를 해결한 것도 이번 유럽행에 유리하게 작용했다.   셀틱은 최근 몇 년간 일본 J리그 출신 선수들을 여러 명 영입해 좋은 성과를 냈다. 올해는 한국 선수들 영입으로 이어졌다. 현재 셀틱 로스터에 오른 한국·일본 선수는 오현규와 일본의 마에다 다이젠, 후루하시 교고, 이와타 도모키, 하타테 레오, 고바야시 유키 등 6명이다. 여기에 양현준, 권혁규의 이름까지 더하면 총 8명의 동아시아 선수가 셀틱에서 한솥밥을 먹는다.   권혁규는 \"어린 시절 기성용 선배가 셀틱에서 뛰던 모습을 즐겨봤는데, 팀의 일원이 돼 기쁘다\"고 말했다. 브렌던 로저스 셀틱 감독은 \"양현준과 권혁규는 오랫동안 구단이 지켜본 선수들이다. 셀틱에서 영향력을 발휘해주길 바란다\"며 두 신입생의 활약을 기대했다.피주영 기자 akapj@joongang.co.kr'],\n",
       " ['피주영'],\n",
       " ['2023-07-25T04:10:40+09:00'])"
      ]
     },
     "execution_count": 229,
     "metadata": {},
     "output_type": "execute_result"
    }
   ],
   "source": [
    "news_titles, news_contents, news_author, news_insert_dt"
   ]
  },
  {
   "cell_type": "code",
   "execution_count": null,
   "id": "8004b507-d874-4142-80f6-64a5153fb132",
   "metadata": {},
   "outputs": [],
   "source": []
  }
 ],
 "metadata": {
  "kernelspec": {
   "display_name": "Python 3 (ipykernel)",
   "language": "python",
   "name": "python3"
  },
  "language_info": {
   "codemirror_mode": {
    "name": "ipython",
    "version": 3
   },
   "file_extension": ".py",
   "mimetype": "text/x-python",
   "name": "python",
   "nbconvert_exporter": "python",
   "pygments_lexer": "ipython3",
   "version": "3.10.12"
  }
 },
 "nbformat": 4,
 "nbformat_minor": 5
}
