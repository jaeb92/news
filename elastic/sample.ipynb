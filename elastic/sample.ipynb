{
 "cells": [
  {
   "cell_type": "code",
   "execution_count": 1,
   "id": "0ee1cd6b-67c3-49c2-901a-d8300351e38b",
   "metadata": {},
   "outputs": [],
   "source": [
    "%load_ext autoreload \n",
    "%autoreload 2"
   ]
  },
  {
   "cell_type": "code",
   "execution_count": 2,
   "id": "8f7a5566-d383-46ff-ba31-95920d93c000",
   "metadata": {},
   "outputs": [],
   "source": [
    "from datetime import datetime\n",
    "from es import ElasticSearch"
   ]
  },
  {
   "cell_type": "code",
   "execution_count": 6,
   "id": "bb7c2dce-1faa-4eab-91f2-eaf8fc1871ec",
   "metadata": {},
   "outputs": [
    {
     "name": "stderr",
     "output_type": "stream",
     "text": [
      "/home/news/venv/lib/python3.8/site-packages/elasticsearch/_sync/client/__init__.py:395: SecurityWarning: Connecting to 'https://elastic:9200' using TLS with verify_certs=False is insecure\n",
      "  _transport = transport_class(\n"
     ]
    }
   ],
   "source": [
    "es = ElasticSearch()"
   ]
  },
  {
   "cell_type": "code",
   "execution_count": 7,
   "id": "09c5f101-6db7-402e-8db8-1b99509d439a",
   "metadata": {},
   "outputs": [
    {
     "name": "stdout",
     "output_type": "stream",
     "text": [
      "{'name': '19b9affa10a4', 'cluster_name': 'docker-cluster', 'cluster_uuid': 'fpJhDi6XTFyHpX8BeCzXRg', 'version': {'number': '8.9.0', 'build_flavor': 'default', 'build_type': 'docker', 'build_hash': '8aa461beb06aa0417a231c345a1b8c38fb498a0d', 'build_date': '2023-07-19T14:43:58.555259655Z', 'build_snapshot': False, 'lucene_version': '9.7.0', 'minimum_wire_compatibility_version': '7.17.0', 'minimum_index_compatibility_version': '7.0.0'}, 'tagline': 'You Know, for Search'}\n"
     ]
    },
    {
     "name": "stderr",
     "output_type": "stream",
     "text": [
      "/home/news/venv/lib/python3.8/site-packages/urllib3/connectionpool.py:1056: InsecureRequestWarning: Unverified HTTPS request is being made to host 'elastic'. Adding certificate verification is strongly advised. See: https://urllib3.readthedocs.io/en/1.26.x/advanced-usage.html#ssl-warnings\n",
      "  warnings.warn(\n"
     ]
    }
   ],
   "source": [
    "print(es)"
   ]
  },
  {
   "cell_type": "code",
   "execution_count": 8,
   "id": "4bd550b9-6394-49be-a03e-a3a905ee2d99",
   "metadata": {},
   "outputs": [
    {
     "name": "stderr",
     "output_type": "stream",
     "text": [
      "/home/news/venv/lib/python3.8/site-packages/urllib3/connectionpool.py:1056: InsecureRequestWarning: Unverified HTTPS request is being made to host 'elastic'. Adding certificate verification is strongly advised. See: https://urllib3.readthedocs.io/en/1.26.x/advanced-usage.html#ssl-warnings\n",
      "  warnings.warn(\n",
      "/home/news/elastic/es.py:44: ElasticsearchWarning: this request accesses system indices: [.security-7], but in a future major version, direct access to system indices will be prevented by default\n",
      "  return sorted(self.es.indices.get_alias(index=\"*\"))\n"
     ]
    },
    {
     "data": {
      "text/plain": [
       "['.security-7', 'news', 'test', 'test-index', 'test-index2']"
      ]
     },
     "execution_count": 8,
     "metadata": {},
     "output_type": "execute_result"
    }
   ],
   "source": [
    "es.get_all_indexes()"
   ]
  },
  {
   "cell_type": "code",
   "execution_count": 36,
   "id": "bc77602d",
   "metadata": {},
   "outputs": [],
   "source": [
    "index_name='stockprice'\n",
    "index_body = {\n",
    "    'settings':{\n",
    "        \"number_of_shards\": 1,\n",
    "        \"number_of_replicas\": 0\n",
    "    },\n",
    "    \"mappings\": {\n",
    "        \"properties\": {\n",
    "            \"basDt\": {\"type\": \"date\"},\n",
    "            \"clpr\": {\"type\": \"long\"},\n",
    "            \"fltRt\": {\"type\": \"float\"},\n",
    "            \"hipr\": {\"type\": \"long\"},\n",
    "            \"isinCd\": {\"type\": \"keyword\"},\n",
    "            \"itmsNm\": {\"type\": \"keyword\"},\n",
    "            \"lopr\": {\"type\": \"long\"},\n",
    "            \"lstgStCnt\": {\"type\": \"long\"},\n",
    "            \"mkp\": {\"type\": \"long\"},\n",
    "            \"mrktCtg\": {\"type\": \"keyword\"},\n",
    "            \"mrktTotAmt\": {\"type\": \"long\"},\n",
    "            \"srtnCd\": {\"type\": \"keyword\"},\n",
    "            \"trPrc\": {\"type\": \"long\"},\n",
    "            \"trqu\": {\"type\": \"long\"},\n",
    "            \"vs\": {\"type\": \"long\"}\n",
    "        }\n",
    "    }\n",
    "}"
   ]
  },
  {
   "cell_type": "code",
   "execution_count": 12,
   "id": "a79063a1-8291-4e3d-9df3-facdcb2a25a2",
   "metadata": {},
   "outputs": [],
   "source": [
    "# index_body={\n",
    "#     'settings':{\n",
    "#         \"number_of_shards\": 1,\n",
    "#         \"number_of_replicas\": 0\n",
    "#     },\n",
    "#     \"mappings\": {\n",
    "#         \"properties\": {\n",
    "#             \"news_id\": {\"type\": \"keyword\"},\n",
    "#             \"title\": {\"type\": \"text\"},\n",
    "#             \"content\": {\"type\": \"text\"},\n",
    "#             \"author\": {\"type\": \"text\"},\n",
    "#             \"date\": {\"type\": \"text\"},\n",
    "#             \"source\": {\"type\": \"keyword\"}\n",
    "#         }\n",
    "#     }\n",
    "# }"
   ]
  },
  {
   "cell_type": "code",
   "execution_count": 37,
   "id": "8158debc-b9bc-4ff8-95b8-4ebd72e6ddd8",
   "metadata": {},
   "outputs": [
    {
     "name": "stderr",
     "output_type": "stream",
     "text": [
      "/home/news/venv/lib/python3.8/site-packages/urllib3/connectionpool.py:1056: InsecureRequestWarning: Unverified HTTPS request is being made to host 'elastic'. Adding certificate verification is strongly advised. See: https://urllib3.readthedocs.io/en/1.26.x/advanced-usage.html#ssl-warnings\n",
      "  warnings.warn(\n"
     ]
    }
   ],
   "source": [
    "res = es.create_index(index_name, index_body)"
   ]
  },
  {
   "cell_type": "code",
   "execution_count": 19,
   "id": "7f77f2c4",
   "metadata": {},
   "outputs": [
    {
     "name": "stderr",
     "output_type": "stream",
     "text": [
      "/home/news/venv/lib/python3.8/site-packages/urllib3/connectionpool.py:1056: InsecureRequestWarning: Unverified HTTPS request is being made to host 'elastic'. Adding certificate verification is strongly advised. See: https://urllib3.readthedocs.io/en/1.26.x/advanced-usage.html#ssl-warnings\n",
      "  warnings.warn(\n"
     ]
    },
    {
     "data": {
      "text/plain": [
       "[]"
      ]
     },
     "execution_count": 19,
     "metadata": {},
     "output_type": "execute_result"
    }
   ],
   "source": [
    "es.search_all('stockprice')"
   ]
  },
  {
   "cell_type": "code",
   "execution_count": 38,
   "id": "d3578c51",
   "metadata": {},
   "outputs": [],
   "source": [
    "doc = {'basDt': '20230103',\n",
    "        'clpr': '5160',\n",
    "        'fltRt': '.78',\n",
    "        'hipr': '5190',\n",
    "        'isinCd': 'KR7098120009',\n",
    "        'itmsNm': '마이크로컨텍솔',\n",
    "        'lopr': '4900',\n",
    "        'lstgStCnt': '8312766',\n",
    "        'mkp': '5010',\n",
    "        'mrktCtg': 'KOSDAQ',\n",
    "        'mrktTotAmt': '42893872560',\n",
    "        'srtnCd': '098120',\n",
    "        'trPrc': '198341930',\n",
    "        'trqu': '39413',\n",
    "        'vs': '40'}"
   ]
  },
  {
   "cell_type": "code",
   "execution_count": 21,
   "id": "574c2824-0320-4251-b412-93200cf1b422",
   "metadata": {},
   "outputs": [],
   "source": [
    "# doc = {\n",
    "#     'news_id': '12345',\n",
    "#     'title': 'hi',\n",
    "#     'content': 'test contents',\n",
    "#     'author': 'kim author',\n",
    "#     'date': datetime.now(),\n",
    "#     'source': 'joongang'\n",
    "# }"
   ]
  },
  {
   "cell_type": "code",
   "execution_count": 39,
   "id": "d4890e88-a0c1-42ea-b0f8-69785e02baa6",
   "metadata": {},
   "outputs": [
    {
     "name": "stderr",
     "output_type": "stream",
     "text": [
      "/home/news/venv/lib/python3.8/site-packages/urllib3/connectionpool.py:1056: InsecureRequestWarning: Unverified HTTPS request is being made to host 'elastic'. Adding certificate verification is strongly advised. See: https://urllib3.readthedocs.io/en/1.26.x/advanced-usage.html#ssl-warnings\n",
      "  warnings.warn(\n"
     ]
    },
    {
     "data": {
      "text/plain": [
       "ObjectApiResponse({'_index': 'stockprice', '_id': '9cPW0IkB01rJKEqouVAD', '_version': 1, 'result': 'created', '_shards': {'total': 1, 'successful': 1, 'failed': 0}, '_seq_no': 0, '_primary_term': 1})"
      ]
     },
     "execution_count": 39,
     "metadata": {},
     "output_type": "execute_result"
    }
   ],
   "source": [
    "es.insert('stockprice', doc)"
   ]
  },
  {
   "cell_type": "code",
   "execution_count": 41,
   "id": "5a8e3944-69e5-4614-9e41-2ce93796419a",
   "metadata": {},
   "outputs": [
    {
     "name": "stderr",
     "output_type": "stream",
     "text": [
      "/home/news/venv/lib/python3.8/site-packages/urllib3/connectionpool.py:1056: InsecureRequestWarning: Unverified HTTPS request is being made to host 'elastic'. Adding certificate verification is strongly advised. See: https://urllib3.readthedocs.io/en/1.26.x/advanced-usage.html#ssl-warnings\n",
      "  warnings.warn(\n"
     ]
    }
   ],
   "source": [
    "res = es.search_all('stockprice')"
   ]
  },
  {
   "cell_type": "code",
   "execution_count": 53,
   "id": "d6f10128-93b0-4ce6-950a-053b5f3772f2",
   "metadata": {},
   "outputs": [
    {
     "data": {
      "text/plain": [
       "(42893872560, int)"
      ]
     },
     "execution_count": 53,
     "metadata": {},
     "output_type": "execute_result"
    }
   ],
   "source": [
    "t = eval(res[0]['_source']['mrktTotAmt'])\n",
    "t, type(t)"
   ]
  },
  {
   "cell_type": "code",
   "execution_count": 79,
   "id": "1c86b056-b21e-4a6d-9e8f-5b1ce14228ba",
   "metadata": {},
   "outputs": [
    {
     "name": "stderr",
     "output_type": "stream",
     "text": [
      "/Users/jaeb/news/venv/lib/python3.10/site-packages/urllib3/connectionpool.py:1056: InsecureRequestWarning: Unverified HTTPS request is being made to host 'localhost'. Adding certificate verification is strongly advised. See: https://urllib3.readthedocs.io/en/1.26.x/advanced-usage.html#ssl-warnings\n",
      "  warnings.warn(\n"
     ]
    }
   ],
   "source": [
    "res = es.search_all('test')"
   ]
  },
  {
   "cell_type": "code",
   "execution_count": 35,
   "id": "3d326b94-9be3-4f6a-94b3-55290efbe3b7",
   "metadata": {},
   "outputs": [
    {
     "name": "stderr",
     "output_type": "stream",
     "text": [
      "/home/news/venv/lib/python3.8/site-packages/urllib3/connectionpool.py:1056: InsecureRequestWarning: Unverified HTTPS request is being made to host 'elastic'. Adding certificate verification is strongly advised. See: https://urllib3.readthedocs.io/en/1.26.x/advanced-usage.html#ssl-warnings\n",
      "  warnings.warn(\n"
     ]
    }
   ],
   "source": [
    "es.delete_index(\"stockprice\")"
   ]
  },
  {
   "cell_type": "code",
   "execution_count": null,
   "id": "d2429add",
   "metadata": {},
   "outputs": [],
   "source": []
  },
  {
   "cell_type": "code",
   "execution_count": null,
   "id": "0f3cf5d8",
   "metadata": {},
   "outputs": [],
   "source": []
  }
 ],
 "metadata": {
  "kernelspec": {
   "display_name": "Python 3 (ipykernel)",
   "language": "python",
   "name": "python3"
  },
  "language_info": {
   "codemirror_mode": {
    "name": "ipython",
    "version": 3
   },
   "file_extension": ".py",
   "mimetype": "text/x-python",
   "name": "python",
   "nbconvert_exporter": "python",
   "pygments_lexer": "ipython3",
   "version": "3.8.0"
  }
 },
 "nbformat": 4,
 "nbformat_minor": 5
}
